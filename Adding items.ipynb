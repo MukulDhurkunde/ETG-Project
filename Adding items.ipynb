{
 "cells": [
  {
   "cell_type": "markdown",
   "id": "radio-highway",
   "metadata": {},
   "source": [
    "### Reading Data from JSON file"
   ]
  },
  {
   "cell_type": "code",
   "execution_count": null,
   "id": "pediatric-excellence",
   "metadata": {},
   "outputs": [],
   "source": [
    "import json"
   ]
  },
  {
   "cell_type": "code",
   "execution_count": null,
   "id": "worse-article",
   "metadata": {},
   "outputs": [],
   "source": [
    "fd = open(\"Record.json\",\"r\")\n",
    "txt = fd.read()\n",
    "fd.close()"
   ]
  },
  {
   "cell_type": "markdown",
   "id": "wicked-while",
   "metadata": {},
   "source": [
    "### Converting str to dict"
   ]
  },
  {
   "cell_type": "code",
   "execution_count": null,
   "id": "aging-report",
   "metadata": {},
   "outputs": [],
   "source": [
    "record = json.loads(txt)"
   ]
  },
  {
   "cell_type": "code",
   "execution_count": null,
   "id": "assumed-leeds",
   "metadata": {},
   "outputs": [],
   "source": [
    "record"
   ]
  },
  {
   "cell_type": "markdown",
   "id": "sudden-texture",
   "metadata": {},
   "source": [
    "### Adding new items into store"
   ]
  },
  {
   "cell_type": "code",
   "execution_count": null,
   "id": "personalized-projection",
   "metadata": {
    "scrolled": true
   },
   "outputs": [],
   "source": [
    "prod_id = str(input(\"Enter product id: \\n\"))\n",
    "name = str(input(\"Enter product name: \\n\"))\n",
    "price = int(input(\"Enter price: \\n\"))\n",
    "quantity = int(input(\"Enter quantity: \\n\"))\n",
    "exp_date = str(input(\"Enter exp date: \\n\"))\n",
    "\n",
    "record[prod_id] = {\"Prod_Name\":name,\"MRP\":price,\"Qty\":quantity,\"Exp\":exp_date}"
   ]
  },
  {
   "cell_type": "markdown",
   "id": "legal-doctrine",
   "metadata": {},
   "source": [
    "### Updating added quantity"
   ]
  },
  {
   "cell_type": "code",
   "execution_count": null,
   "id": "alleged-better",
   "metadata": {},
   "outputs": [],
   "source": [
    "def adding_prod(prod):\n",
    "    ui_adding = int(input(\"Adding more items: \\n\"))\n",
    "    record[prod][\"Qty\"] = record[prod][\"Qty\"] + ui_adding"
   ]
  },
  {
   "cell_type": "code",
   "execution_count": null,
   "id": "parental-promise",
   "metadata": {
    "scrolled": true
   },
   "outputs": [],
   "source": [
    "adding_prod(\"1001\")"
   ]
  },
  {
   "cell_type": "markdown",
   "id": "several-planet",
   "metadata": {},
   "source": [
    "### Converting dict to str"
   ]
  },
  {
   "cell_type": "code",
   "execution_count": null,
   "id": "organized-samuel",
   "metadata": {},
   "outputs": [],
   "source": [
    "jd = json.dumps(record)"
   ]
  },
  {
   "cell_type": "markdown",
   "id": "breeding-vehicle",
   "metadata": {},
   "source": [
    "### Writing new data into JSON file"
   ]
  },
  {
   "cell_type": "code",
   "execution_count": null,
   "id": "alive-fireplace",
   "metadata": {},
   "outputs": [],
   "source": [
    "fd = open(\"Record.json\",\"w\")\n",
    "fd.write(jd)\n",
    "fd.close()"
   ]
  }
 ],
 "metadata": {
  "kernelspec": {
   "display_name": "Python 3",
   "language": "python",
   "name": "python3"
  },
  "language_info": {
   "codemirror_mode": {
    "name": "ipython",
    "version": 3
   },
   "file_extension": ".py",
   "mimetype": "text/x-python",
   "name": "python",
   "nbconvert_exporter": "python",
   "pygments_lexer": "ipython3",
   "version": "3.8.8"
  }
 },
 "nbformat": 4,
 "nbformat_minor": 5
}
