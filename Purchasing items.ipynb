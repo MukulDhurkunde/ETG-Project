{
 "cells": [
  {
   "cell_type": "markdown",
   "id": "daily-lease",
   "metadata": {},
   "source": [
    "### Read Inventory"
   ]
  },
  {
   "cell_type": "code",
   "execution_count": 1,
   "id": "republican-style",
   "metadata": {},
   "outputs": [],
   "source": [
    "import json"
   ]
  },
  {
   "cell_type": "code",
   "execution_count": 2,
   "id": "macro-flight",
   "metadata": {},
   "outputs": [],
   "source": [
    "fd = open(\"Record.json\",\"r\")\n",
    "txt = fd.read()\n",
    "fd.close()"
   ]
  },
  {
   "cell_type": "markdown",
   "id": "built-vatican",
   "metadata": {},
   "source": [
    "Converting str to dict"
   ]
  },
  {
   "cell_type": "code",
   "execution_count": 3,
   "id": "composed-leonard",
   "metadata": {
    "scrolled": true
   },
   "outputs": [],
   "source": [
    "record = json.loads(txt)"
   ]
  },
  {
   "cell_type": "markdown",
   "id": "numeric-banana",
   "metadata": {},
   "source": [
    "### Purchasing"
   ]
  },
  {
   "cell_type": "code",
   "execution_count": 9,
   "id": "superior-exhaust",
   "metadata": {
    "scrolled": true
   },
   "outputs": [
    {
     "name": "stdout",
     "output_type": "stream",
     "text": [
      "Enter product id: \n",
      "1015\n",
      "Enter quantity: \n",
      "5\n",
      "**********************\n",
      "Product:  Swim Cap\n",
      "MRP:  50\n",
      "----------------------\n",
      "Billing Amount:  250\n",
      "**********************\n"
     ]
    }
   ],
   "source": [
    "ui_prod_id = str(input(\"Enter product id: \\n\"))\n",
    "ui_quantity = int(input(\"Enter quantity: \\n\"))\n",
    "\n",
    "print(\"**********************\")\n",
    "print(\"Product: \",record[ui_prod_id][\"Prod_Name\"])\n",
    "print(\"MRP: \",record[ui_prod_id][\"MRP\"])\n",
    "print(\"----------------------\")\n",
    "print(\"Billing Amount: \",record[ui_prod_id][\"MRP\"]*ui_quantity)\n",
    "print(\"**********************\")\n",
    "\n",
    "record[ui_prod_id][\"Qty\"] = record[ui_prod_id][\"Qty\"] - ui_quantity"
   ]
  },
  {
   "cell_type": "markdown",
   "id": "impressive-terry",
   "metadata": {},
   "source": [
    "### Updating Inventory after purchase"
   ]
  },
  {
   "cell_type": "code",
   "execution_count": 5,
   "id": "beautiful-classic",
   "metadata": {},
   "outputs": [],
   "source": [
    "jd = json.dumps(record)\n",
    "fd = open(\"Record.json\",\"w\")\n",
    "fd.write(jd)\n",
    "fd.close()"
   ]
  },
  {
   "cell_type": "markdown",
   "id": "indonesian-solid",
   "metadata": {},
   "source": [
    "### Sales JSON"
   ]
  },
  {
   "cell_type": "code",
   "execution_count": 6,
   "id": "coupled-pattern",
   "metadata": {},
   "outputs": [],
   "source": [
    "sales = {1:{'Prod_Name':record[ui_prod_id][\"Prod_Name\"],\"Qty\":ui_quantity,\"MRP\":record[ui_prod_id][\"MRP\"]*ui_quantity,\"Exp.date\":record[ui_prod_id][\"Exp\"]}}"
   ]
  },
  {
   "cell_type": "code",
   "execution_count": 10,
   "id": "discrete-values",
   "metadata": {},
   "outputs": [],
   "source": [
    "sales[len(sales)+1] = {'Prod_Name':record[ui_prod_id][\"Prod_Name\"],\"Qty\":ui_quantity,\"MRP\":record[ui_prod_id][\"MRP\"]*ui_quantity,\"Exp.date\":record[ui_prod_id][\"Exp\"]}"
   ]
  },
  {
   "cell_type": "code",
   "execution_count": 11,
   "id": "interior-france",
   "metadata": {},
   "outputs": [
    {
     "data": {
      "text/plain": [
       "{1: {'Prod_Name': 'Milk', 'Qty': 5, 'MRP': 120, 'Exp.date': '2021-09-29'},\n",
       " 2: {'Prod_Name': 'Notebook', 'Qty': 2, 'MRP': 60, 'Exp.date': '2021-12-21'},\n",
       " 3: {'Prod_Name': 'Swim Cap', 'Qty': 5, 'MRP': 250, 'Exp.date': '2022-01-22'}}"
      ]
     },
     "execution_count": 11,
     "metadata": {},
     "output_type": "execute_result"
    }
   ],
   "source": [
    "sales"
   ]
  },
  {
   "cell_type": "markdown",
   "id": "seven-idaho",
   "metadata": {},
   "source": [
    "### Total Profit"
   ]
  },
  {
   "cell_type": "code",
   "execution_count": 12,
   "id": "appointed-dependence",
   "metadata": {},
   "outputs": [
    {
     "name": "stdout",
     "output_type": "stream",
     "text": [
      "Today's Total profit =  430\n"
     ]
    }
   ],
   "source": [
    "total_profit = 0\n",
    "for i in sales:\n",
    "    total_profit += sales[i][\"MRP\"]\n",
    "print(\"Today's Total profit = \",total_profit)"
   ]
  },
  {
   "cell_type": "code",
   "execution_count": 13,
   "id": "diagnostic-radio",
   "metadata": {},
   "outputs": [],
   "source": [
    "sd = json.dumps(sales)"
   ]
  },
  {
   "cell_type": "code",
   "execution_count": 14,
   "id": "electronic-genome",
   "metadata": {
    "scrolled": true
   },
   "outputs": [
    {
     "data": {
      "text/plain": [
       "'{\"1\": {\"Prod_Name\": \"Milk\", \"Qty\": 5, \"MRP\": 120, \"Exp.date\": \"2021-09-29\"}, \"2\": {\"Prod_Name\": \"Notebook\", \"Qty\": 2, \"MRP\": 60, \"Exp.date\": \"2021-12-21\"}, \"3\": {\"Prod_Name\": \"Swim Cap\", \"Qty\": 5, \"MRP\": 250, \"Exp.date\": \"2022-01-22\"}}'"
      ]
     },
     "execution_count": 14,
     "metadata": {},
     "output_type": "execute_result"
    }
   ],
   "source": [
    "sd"
   ]
  },
  {
   "cell_type": "code",
   "execution_count": 15,
   "id": "peripheral-vampire",
   "metadata": {},
   "outputs": [],
   "source": [
    "fd = open(\"Sales.json\",\"w\")\n",
    "fd.write(sd)\n",
    "fd.close()"
   ]
  }
 ],
 "metadata": {
  "kernelspec": {
   "display_name": "Python 3",
   "language": "python",
   "name": "python3"
  },
  "language_info": {
   "codemirror_mode": {
    "name": "ipython",
    "version": 3
   },
   "file_extension": ".py",
   "mimetype": "text/x-python",
   "name": "python",
   "nbconvert_exporter": "python",
   "pygments_lexer": "ipython3",
   "version": "3.8.8"
  }
 },
 "nbformat": 4,
 "nbformat_minor": 5
}
