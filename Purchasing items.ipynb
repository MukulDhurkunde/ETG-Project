{
 "cells": [
  {
   "cell_type": "markdown",
   "id": "daily-lease",
   "metadata": {},
   "source": [
    "### Read Inventory"
   ]
  },
  {
   "cell_type": "code",
   "execution_count": null,
   "id": "republican-style",
   "metadata": {},
   "outputs": [],
   "source": [
    "import json"
   ]
  },
  {
   "cell_type": "code",
   "execution_count": null,
   "id": "macro-flight",
   "metadata": {},
   "outputs": [],
   "source": [
    "fd = open(\"Record.json\",\"r\")\n",
    "txt = fd.read()\n",
    "fd.close()"
   ]
  },
  {
   "cell_type": "markdown",
   "id": "built-vatican",
   "metadata": {},
   "source": [
    "Converting str to dict"
   ]
  },
  {
   "cell_type": "code",
   "execution_count": null,
   "id": "composed-leonard",
   "metadata": {
    "scrolled": true
   },
   "outputs": [],
   "source": [
    "record = json.loads(txt)"
   ]
  },
  {
   "cell_type": "markdown",
   "id": "numeric-banana",
   "metadata": {},
   "source": [
    "### Purchasing"
   ]
  },
  {
   "cell_type": "code",
   "execution_count": null,
   "id": "superior-exhaust",
   "metadata": {
    "scrolled": true
   },
   "outputs": [],
   "source": [
    "ui_prod_id = str(input(\"Enter product id: \\n\"))\n",
    "ui_quantity = int(input(\"Enter quantity: \\n\"))\n",
    "\n",
    "print(\"**********************\")\n",
    "print(\"Product: \",record[ui_prod_id][\"Prod_Name\"])\n",
    "print(\"MRP: \",record[ui_prod_id][\"MRP\"])\n",
    "print(\"----------------------\")\n",
    "print(\"Billing Amount: \",record[ui_prod_id][\"MRP\"]*ui_quantity)\n",
    "print(\"**********************\")\n",
    "\n",
    "record[ui_prod_id][\"Qty\"] = record[ui_prod_id][\"Qty\"] - ui_quantity"
   ]
  },
  {
   "cell_type": "markdown",
   "id": "impressive-terry",
   "metadata": {},
   "source": [
    "### Updating Inventory after purchase"
   ]
  },
  {
   "cell_type": "code",
   "execution_count": null,
   "id": "beautiful-classic",
   "metadata": {},
   "outputs": [],
   "source": [
    "jd = json.dumps(record)\n",
    "fd = open(\"Record.json\",\"w\")\n",
    "fd.write(jd)\n",
    "fd.close()"
   ]
  },
  {
   "cell_type": "markdown",
   "id": "indonesian-solid",
   "metadata": {},
   "source": [
    "### Sales JSON"
   ]
  },
  {
   "cell_type": "code",
   "execution_count": null,
   "id": "coupled-pattern",
   "metadata": {},
   "outputs": [],
   "source": [
    "sales = {1:{'Prod_Name':record[ui_prod_id][\"Prod_Name\"],\"Qty\":ui_quantity,\"MRP\":record[ui_prod_id][\"MRP\"]*ui_quantity,\"Exp.date\":record[ui_prod_id][\"Exp\"]}}"
   ]
  },
  {
   "cell_type": "code",
   "execution_count": null,
   "id": "discrete-values",
   "metadata": {},
   "outputs": [],
   "source": [
    "sales[len(sales)+1] = {'Prod_Name':record[ui_prod_id][\"Prod_Name\"],\"Qty\":ui_quantity,\"MRP\":record[ui_prod_id][\"MRP\"]*ui_quantity,\"Exp.date\":record[ui_prod_id][\"Exp\"]}"
   ]
  },
  {
   "cell_type": "code",
   "execution_count": null,
   "id": "interior-france",
   "metadata": {},
   "outputs": [],
   "source": [
    "sales"
   ]
  },
  {
   "cell_type": "markdown",
   "id": "seven-idaho",
   "metadata": {},
   "source": [
    "### Total Profit"
   ]
  },
  {
   "cell_type": "code",
   "execution_count": null,
   "id": "appointed-dependence",
   "metadata": {},
   "outputs": [],
   "source": [
    "total_profit = 0\n",
    "for i in sales:\n",
    "    total_profit += sales[i][\"MRP\"]\n",
    "print(\"Today's Total profit = \",total_profit)"
   ]
  },
  {
   "cell_type": "code",
   "execution_count": null,
   "id": "diagnostic-radio",
   "metadata": {},
   "outputs": [],
   "source": [
    "sd = json.dumps(sales)"
   ]
  },
  {
   "cell_type": "code",
   "execution_count": null,
   "id": "electronic-genome",
   "metadata": {
    "scrolled": true
   },
   "outputs": [],
   "source": [
    "sd"
   ]
  },
  {
   "cell_type": "code",
   "execution_count": null,
   "id": "peripheral-vampire",
   "metadata": {},
   "outputs": [],
   "source": [
    "fd = open(\"Sales.json\",\"w\")\n",
    "fd.write(sd)\n",
    "fd.close()"
   ]
  }
 ],
 "metadata": {
  "kernelspec": {
   "display_name": "Python 3",
   "language": "python",
   "name": "python3"
  },
  "language_info": {
   "codemirror_mode": {
    "name": "ipython",
    "version": 3
   },
   "file_extension": ".py",
   "mimetype": "text/x-python",
   "name": "python",
   "nbconvert_exporter": "python",
   "pygments_lexer": "ipython3",
   "version": "3.8.8"
  }
 },
 "nbformat": 4,
 "nbformat_minor": 5
}
